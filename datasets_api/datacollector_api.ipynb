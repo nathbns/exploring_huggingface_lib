{
 "cells": [
  {
   "cell_type": "code",
   "execution_count": 6,
   "id": "fab98632",
   "metadata": {},
   "outputs": [],
   "source": [
    "import torch\n",
    "from transformers import (\n",
    "    DataCollatorWithPadding,\n",
    "    AutoTokenizer,\n",
    "    AutoModelForSequenceClassification\n",
    ")\n",
    "from datasets import load_dataset"
   ]
  },
  {
   "cell_type": "code",
   "execution_count": null,
   "id": "5c38d57c",
   "metadata": {},
   "outputs": [
    {
     "name": "stderr",
     "output_type": "stream",
     "text": [
      "Some weights of BertForSequenceClassification were not initialized from the model checkpoint at bert-base-uncased and are newly initialized: ['classifier.bias', 'classifier.weight']\n",
      "You should probably TRAIN this model on a down-stream task to be able to use it for predictions and inference.\n"
     ]
    }
   ],
   "source": [
    "checkpoint = \"bert-base-uncased\"\n",
    "tokenizer = AutoTokenizer.from_pretrained(checkpoint)\n",
    "model = AutoModelForSequenceClassification.from_pretrained(checkpoint)\n",
    "\n",
    "raw_datasets = load_dataset('glue', 'mrpc')\n",
    "\n",
    "def tokenize_function(example):\n",
    "    return tokenizer(example['sentence1'], example['sentence2'], truncation=True)\n",
    "\n",
    "tokenize_datasets = raw_datasets.map(tokenize_function, batched=True) # default batch -> 1000 data"
   ]
  },
  {
   "cell_type": "code",
   "execution_count": 39,
   "id": "97bdf665",
   "metadata": {},
   "outputs": [],
   "source": [
    "data_colletor = DataCollatorWithPadding(tokenizer=tokenizer)"
   ]
  },
  {
   "cell_type": "code",
   "execution_count": 53,
   "id": "0fa61d59",
   "metadata": {},
   "outputs": [
    {
     "name": "stdout",
     "output_type": "stream",
     "text": [
      "dict_keys(['sentence1', 'sentence2', 'label', 'idx', 'input_ids', 'token_type_ids', 'attention_mask'])\n"
     ]
    },
    {
     "data": {
      "text/plain": [
       "{'input_ids': torch.Size([8, 67]),\n",
       " 'token_type_ids': torch.Size([8, 67]),\n",
       " 'attention_mask': torch.Size([8, 67]),\n",
       " 'labels': torch.Size([8])}"
      ]
     },
     "execution_count": 53,
     "metadata": {},
     "output_type": "execute_result"
    }
   ],
   "source": [
    "samples = tokenize_datasets['train'][:8]\n",
    "print(samples.keys())\n",
    "samples = {k: v for k, v in samples.items() if k not in ['idx', 'sentence1', 'sentence2']}\n",
    "# print(samples.keys())\n",
    "[len(x) for x in samples['input_ids']]\n",
    "\n",
    "batch = data_colletor(samples)\n",
    "{k: v.shape for k, v in batch.items()}\n"
   ]
  },
  {
   "cell_type": "code",
   "execution_count": 52,
   "id": "2a46484e",
   "metadata": {},
   "outputs": [
    {
     "data": {
      "text/plain": [
       "{'input_ids': torch.Size([8, 42]),\n",
       " 'token_type_ids': torch.Size([8, 42]),\n",
       " 'attention_mask': torch.Size([8, 42]),\n",
       " 'labels': torch.Size([8])}"
      ]
     },
     "execution_count": 52,
     "metadata": {},
     "output_type": "execute_result"
    }
   ],
   "source": [
    "from datasets import load_dataset\n",
    "\n",
    "ds = load_dataset(\"gimmaru/glue-sst2\")\n",
    "\n",
    "def tokenize_function_ds(example):\n",
    "    return tokenizer(example['sentence'], truncation=True)\n",
    "\n",
    "tokenize_ds = ds.map(tokenize_function_ds, batched=True)\n",
    "# print(tokenize_ds)\n",
    "spl = tokenize_ds['validation'][:8]\n",
    "spl = {k: v for k, v in spl.items() if k not in ['sentence', 'idx']}\n",
    "# print(spl.keys())\n",
    "[len(x) for x in spl['input_ids']]\n",
    "\n",
    "batch_ds = data_colletor(spl)\n",
    "{k: v.shape for k, v in batch_ds.items()}\n"
   ]
  }
 ],
 "metadata": {
  "kernelspec": {
   "display_name": "env",
   "language": "python",
   "name": "python3"
  },
  "language_info": {
   "codemirror_mode": {
    "name": "ipython",
    "version": 3
   },
   "file_extension": ".py",
   "mimetype": "text/x-python",
   "name": "python",
   "nbconvert_exporter": "python",
   "pygments_lexer": "ipython3",
   "version": "3.13.5"
  }
 },
 "nbformat": 4,
 "nbformat_minor": 5
}
