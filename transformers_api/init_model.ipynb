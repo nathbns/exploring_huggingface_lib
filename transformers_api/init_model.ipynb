{
 "cells": [
  {
   "cell_type": "code",
   "execution_count": 18,
   "id": "695dbe69",
   "metadata": {},
   "outputs": [],
   "source": [
    "import torch\n",
    "from transformers import BertConfig, BertModel"
   ]
  },
  {
   "cell_type": "code",
   "execution_count": null,
   "id": "a48ffa75",
   "metadata": {},
   "outputs": [],
   "source": [
    "# randomly config\n",
    "bert_config = BertConfig() # charging a configuration object\n",
    "bert_model = BertModel(bert_config) # charging the bert model with the configuration"
   ]
  },
  {
   "cell_type": "code",
   "execution_count": 9,
   "id": "a34612bf",
   "metadata": {},
   "outputs": [],
   "source": [
    "# print(bert_config)"
   ]
  },
  {
   "cell_type": "code",
   "execution_count": 11,
   "id": "3079b86b",
   "metadata": {},
   "outputs": [],
   "source": [
    "# randomly config a model is not good. The best use case is to reuse pre-trained transformers.\n",
    "bert_model = BertModel.from_pretrained(\"bert-base-cased\")"
   ]
  },
  {
   "cell_type": "code",
   "execution_count": null,
   "id": "9ceca99e",
   "metadata": {},
   "outputs": [],
   "source": [
    "# bert_model.save_pretrained(\".\")\n",
    "# save the model in two files: \n",
    "#   fst -> .json, all the architecture of the model.\n",
    "#   snd -> .safetensors, all the weights trained or not of the model.   "
   ]
  },
  {
   "cell_type": "code",
   "execution_count": 31,
   "id": "30282ee3",
   "metadata": {},
   "outputs": [],
   "source": [
    "# how we test our model\n",
    "sequences = [\"Hello!\", \"Cool.\", \"Nice!\"] # we imagine we have this\n",
    "encoded_sequences = [\n",
    "    [101, 7592, 999, 102],\n",
    "    [101, 4658, 1012, 102],\n",
    "    [101, 3835, 999, 102],\n",
    "] # sequences => encoded\n",
    "\n",
    "model_inputs = torch.tensor(encoded_sequences)\n",
    "\n",
    "output = bert_model(model_inputs)"
   ]
  }
 ],
 "metadata": {
  "kernelspec": {
   "display_name": "env",
   "language": "python",
   "name": "python3"
  },
  "language_info": {
   "codemirror_mode": {
    "name": "ipython",
    "version": 3
   },
   "file_extension": ".py",
   "mimetype": "text/x-python",
   "name": "python",
   "nbconvert_exporter": "python",
   "pygments_lexer": "ipython3",
   "version": "3.13.5"
  }
 },
 "nbformat": 4,
 "nbformat_minor": 5
}
