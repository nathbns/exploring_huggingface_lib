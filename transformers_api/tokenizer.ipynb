{
 "cells": [
  {
   "cell_type": "code",
   "execution_count": 6,
   "id": "4fdeeace",
   "metadata": {},
   "outputs": [],
   "source": [
    "import torch\n",
    "from transformers import (BertTokenizer, AutoTokenizer)"
   ]
  },
  {
   "cell_type": "code",
   "execution_count": 42,
   "id": "3c227a44",
   "metadata": {},
   "outputs": [],
   "source": [
    "checkpoint = \"bert-base-cased\"\n",
    "\n",
    "# tokenizer = BertTokenizer.from_pretrained(checkpoint)\n",
    "tokenizer = AutoTokenizer.from_pretrained(checkpoint)"
   ]
  },
  {
   "cell_type": "code",
   "execution_count": 43,
   "id": "3e0a8569",
   "metadata": {},
   "outputs": [
    {
     "data": {
      "text/plain": [
       "{'input_ids': [101, 1606, 170, 25267, 2443, 1110, 3014, 119, 102], 'token_type_ids': [0, 0, 0, 0, 0, 0, 0, 0, 0], 'attention_mask': [1, 1, 1, 1, 1, 1, 1, 1, 1]}"
      ]
     },
     "execution_count": 43,
     "metadata": {},
     "output_type": "execute_result"
    }
   ],
   "source": [
    "tokenizer(\"using a Transformers network is simple.\")"
   ]
  },
  {
   "cell_type": "code",
   "execution_count": 48,
   "id": "d75e2d72",
   "metadata": {},
   "outputs": [
    {
     "name": "stdout",
     "output_type": "stream",
     "text": [
      "tokens: ['Using', 'a', 'Trans', '##former', 'network', 'is', 'simple']\n"
     ]
    }
   ],
   "source": [
    "seq = \"Using a Transformer network is simple\"\n",
    "tokens = tokenizer.tokenize(seq)\n",
    "print(f\"tokens: {tokens}\")"
   ]
  },
  {
   "cell_type": "code",
   "execution_count": 50,
   "id": "ae223ea0",
   "metadata": {},
   "outputs": [
    {
     "name": "stdout",
     "output_type": "stream",
     "text": [
      "ids = [7993, 170, 13809, 23763, 2443, 1110, 3014]\n"
     ]
    }
   ],
   "source": [
    "ids = tokenizer.convert_tokens_to_ids(tokens)\n",
    "print(f\"ids = {ids}\")"
   ]
  },
  {
   "cell_type": "code",
   "execution_count": 51,
   "id": "0a6fb3ce",
   "metadata": {},
   "outputs": [
    {
     "name": "stdout",
     "output_type": "stream",
     "text": [
      "decode_ids: Using a Transformer network is simple\n"
     ]
    }
   ],
   "source": [
    "decoded_ids = tokenizer.decode(ids)\n",
    "print(f\"decode_ids: {decoded_ids}\")"
   ]
  }
 ],
 "metadata": {
  "kernelspec": {
   "display_name": "env",
   "language": "python",
   "name": "python3"
  },
  "language_info": {
   "codemirror_mode": {
    "name": "ipython",
    "version": 3
   },
   "file_extension": ".py",
   "mimetype": "text/x-python",
   "name": "python",
   "nbconvert_exporter": "python",
   "pygments_lexer": "ipython3",
   "version": "3.13.5"
  }
 },
 "nbformat": 4,
 "nbformat_minor": 5
}
